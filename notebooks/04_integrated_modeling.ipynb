{
 "cells": [
  {
   "cell_type": "raw",
   "metadata": {
    "vscode": {
     "languageId": "raw"
    }
   },
   "source": [
    "# 04 통합 예측 모델링\n",
    "\n",
    "## 목표\n",
    "- Lag Effect + AI 위험지수를 결합한 하이브리드 모델 구축\n",
    "- 앙상블 기법을 활용한 최적 예측 모델 개발\n",
    "- 시나리오별 위험 예측 (낙관적/비관적/현실적)\n",
    "- 2026년 무역보험 위험 전망\n",
    "\n",
    "## 핵심 아이디어\n",
    "**\"과거 패턴 + AI 예측 = 최강 조합\"**\n"
   ]
  },
  {
   "cell_type": "code",
   "execution_count": null,
   "metadata": {},
   "outputs": [],
   "source": [
    "import pandas as pd\n",
    "import numpy as np\n",
    "import matplotlib.pyplot as plt\n",
    "import seaborn as sns\n",
    "from sklearn.ensemble import RandomForestRegressor, VotingRegressor\n",
    "from xgboost import XGBRegressor\n",
    "from lightgbm import LGBMRegressor\n",
    "import sys\n",
    "sys.path.append('../src')\n",
    "\n",
    "# 커스텀 함수 import\n",
    "from prediction_utils import (create_lag_features, create_ai_features, \n",
    "                             create_interaction_features, build_ensemble_model, \n",
    "                             predict_scenarios)\n",
    "\n",
    "# 한글 폰트 설정\n",
    "plt.rcParams['font.family'] = 'Malgun Gothic'\n",
    "plt.rcParams['axes.unicode_minus'] = False\n",
    "\n",
    "print(\"🚀 통합 예측 모델 구축 시작!\")\n"
   ]
  },
  {
   "cell_type": "code",
   "execution_count": null,
   "metadata": {},
   "outputs": [],
   "source": [
    "# 전처리된 데이터 로딩\n",
    "try:\n",
    "    export_data = pd.read_csv('../output/export_data_processed.csv', encoding='cp949')\n",
    "    claims_data = pd.read_csv('../output/claims_data_processed.csv', encoding='cp949')\n",
    "    risk_data = pd.read_csv('../output/risk_data_processed.csv', encoding='cp949')\n",
    "    \n",
    "    # 년월 컬럼을 datetime으로 변환\n",
    "    export_data['년월'] = pd.to_datetime(export_data['년월'])\n",
    "    \n",
    "    print(\"✅ 데이터 로딩 완료\")\n",
    "    print(f\"수출 데이터: {export_data.shape}\")\n",
    "    print(f\"보상 데이터: {claims_data.shape}\")\n",
    "    print(f\"위험지수 데이터: {risk_data.shape}\")\n",
    "    \n",
    "except Exception as e:\n",
    "    print(f\"❌ 데이터 로딩 실패: {e}\")\n",
    "    print(\"먼저 01_data_preparation.ipynb를 실행해주세요!\")\n"
   ]
  },
  {
   "cell_type": "raw",
   "metadata": {
    "vscode": {
     "languageId": "raw"
    }
   },
   "source": [
    "## 1. 피처 엔지니어링\n"
   ]
  },
  {
   "cell_type": "code",
   "execution_count": null,
   "metadata": {},
   "outputs": [],
   "source": [
    "# 1-1. 시차 기반 피처 생성\n",
    "print(\"🔄 시차 기반 피처 생성\")\n",
    "lag_features = create_lag_features(export_data)\n",
    "\n",
    "if not lag_features.empty:\n",
    "    print(f\"✅ 시차 피처 생성 완료: {lag_features.shape}\")\n",
    "    print(\"\\n📊 시차 피처 샘플:\")\n",
    "    print(lag_features.head())\n",
    "    \n",
    "    # 주요 통계\n",
    "    print(f\"\\n📈 주요 통계:\")\n",
    "    print(f\"- 평균 총수출액: {lag_features['총수출액'].mean():.0f}\")\n",
    "    print(f\"- 평균 수출변동성: {lag_features['수출변동성'].mean():.0f}\")\n",
    "    print(f\"- 평균 계절성 변동계수: {lag_features['계절성_변동계수'].mean():.4f}\")\n",
    "else:\n",
    "    print(\"❌ 시차 피처 생성 실패\")\n",
    "\n",
    "# 1-2. AI 위험지수 기반 피처 생성\n",
    "print(\"\\n🤖 AI 위험지수 기반 피처 생성\")\n",
    "ai_features = create_ai_features(risk_data)\n",
    "\n",
    "if not ai_features.empty:\n",
    "    print(f\"✅ AI 피처 생성 완료: {ai_features.shape}\")\n",
    "    print(\"\\n📊 AI 피처 샘플:\")\n",
    "    print(ai_features.head())\n",
    "    \n",
    "    # 위험등급별 분포\n",
    "    print(f\"\\n🎯 위험등급별 분포:\")\n",
    "    print(ai_features['위험등급'].value_counts())\n",
    "else:\n",
    "    print(\"❌ AI 피처 생성 실패\")\n"
   ]
  },
  {
   "cell_type": "code",
   "execution_count": null,
   "metadata": {},
   "outputs": [],
   "source": [
    "# 1-3. 상호작용 피처 생성 및 타겟 변수 준비\n",
    "print(\"⚡ 상호작용 피처 생성\")\n",
    "\n",
    "if not lag_features.empty and not ai_features.empty:\n",
    "    # 상호작용 피처 생성\n",
    "    integrated_features = create_interaction_features(lag_features, ai_features)\n",
    "    \n",
    "    if not integrated_features.empty:\n",
    "        print(f\"✅ 통합 피처 생성 완료: {integrated_features.shape}\")\n",
    "        print(f\"📊 총 피처 수: {len(integrated_features.columns)}\")\n",
    "        \n",
    "        # 보상 데이터와 병합하여 타겟 변수 생성\n",
    "        claims_agg = claims_data.groupby('국가명').agg({\n",
    "            '보상금': 'sum',\n",
    "            '회수금': 'sum', \n",
    "            '보상률': 'mean'\n",
    "        }).reset_index()\n",
    "        claims_agg.rename(columns={'국가명': '국가'}, inplace=True)\n",
    "        \n",
    "        # 최종 모델링 데이터셋\n",
    "        model_data = pd.merge(integrated_features, claims_agg, on='국가', how='inner')\n",
    "        \n",
    "        print(f\"\\n🎯 최종 모델링 데이터셋: {model_data.shape}\")\n",
    "        print(f\"- 분석 대상 국가: {len(model_data)}개국\")\n",
    "        \n",
    "        # 타겟 변수 통계\n",
    "        print(f\"\\n💰 타겟 변수 통계:\")\n",
    "        print(f\"- 평균 보상금: {model_data['보상금'].mean():.0f}\")\n",
    "        print(f\"- 최대 보상금: {model_data['보상금'].max():.0f}\")\n",
    "        print(f\"- 평균 보상률: {model_data['보상률'].mean():.4f}\")\n",
    "        \n",
    "    else:\n",
    "        print(\"❌ 상호작용 피처 생성 실패\")\n",
    "else:\n",
    "    print(\"❌ 기본 피처가 생성되지 않아 상호작용 피처를 생성할 수 없습니다\")\n"
   ]
  },
  {
   "cell_type": "raw",
   "metadata": {
    "vscode": {
     "languageId": "raw"
    }
   },
   "source": [
    "## 2. 앙상블 모델 구축\n"
   ]
  },
  {
   "cell_type": "code",
   "execution_count": null,
   "metadata": {},
   "outputs": [],
   "source": [
    "# 2-1. 앙상블 모델 학습\n",
    "print(\"🚀 앙상블 모델 구축 시작\")\n",
    "\n",
    "if 'model_data' in locals() and not model_data.empty:\n",
    "    # 피처와 타겟 분리\n",
    "    feature_cols = [col for col in model_data.columns \n",
    "                   if col not in ['국가', '보상금', '회수금', '보상률']]\n",
    "    \n",
    "    X = model_data[feature_cols]\n",
    "    y = model_data['보상금']  # 보상금을 타겟으로 설정\n",
    "    \n",
    "    print(f\"📊 모델 학습 데이터:\")\n",
    "    print(f\"- 피처 수: {len(feature_cols)}\")\n",
    "    print(f\"- 샘플 수: {len(X)}\")\n",
    "    print(f\"- 타겟: 보상금\")\n",
    "    \n",
    "    # 앙상블 모델 구축\n",
    "    ensemble_model, performance = build_ensemble_model(X, y)\n",
    "    \n",
    "    if ensemble_model is not None:\n",
    "        print(f\"\\n✅ 앙상블 모델 학습 완료!\")\n",
    "        print(f\"\\n📈 모델 성능:\")\n",
    "        print(f\"- MAE (평균절대오차): {performance['mae']:.2f}\")\n",
    "        print(f\"- MSE (평균제곱오차): {performance['mse']:.2e}\")\n",
    "        print(f\"- R² 점수: {performance['r2']:.4f}\")\n",
    "        print(f\"- 훈련 데이터 크기: {performance['train_size']}\")\n",
    "        print(f\"- 테스트 데이터 크기: {performance['test_size']}\")\n",
    "        \n",
    "        # 피처 중요도 분석\n",
    "        feature_importance = feature_importance_analysis(ensemble_model, feature_cols)\n",
    "        \n",
    "        if not feature_importance.empty:\n",
    "            print(f\"\\n🔍 상위 10개 중요 피처:\")\n",
    "            top_features = feature_importance.head(10)\n",
    "            for idx, row in top_features.iterrows():\n",
    "                print(f\"- {row['feature']}: {row['importance']:.4f}\")\n",
    "        \n",
    "    else:\n",
    "        print(\"❌ 앙상블 모델 구축 실패\")\n",
    "else:\n",
    "    print(\"❌ 모델링 데이터가 준비되지 않았습니다\")\n"
   ]
  },
  {
   "cell_type": "raw",
   "metadata": {
    "vscode": {
     "languageId": "raw"
    }
   },
   "source": [
    "## 3. 시나리오 예측\n"
   ]
  },
  {
   "cell_type": "code",
   "execution_count": null,
   "metadata": {},
   "outputs": [],
   "source": [
    "# 3-1. 시나리오 정의 및 예측\n",
    "print(\"🔮 시나리오 기반 예측 수행\")\n",
    "\n",
    "if 'ensemble_model' in locals() and ensemble_model is not None:\n",
    "    # 시나리오 정의\n",
    "    scenarios = {\n",
    "        'optimistic': '낙관적 시나리오: 수출 10% 증가, 위험지수 10% 감소',\n",
    "        'realistic': '현실적 시나리오: 현재 트렌드 유지',\n",
    "        'pessimistic': '비관적 시나리오: 수출 20% 감소, 위험지수 20% 증가'\n",
    "    }\n",
    "    \n",
    "    # 시나리오별 예측\n",
    "    scenario_results = predict_scenarios(ensemble_model, model_data[feature_cols], scenarios)\n",
    "    \n",
    "    if scenario_results:\n",
    "        print(f\"\\n📊 시나리오별 예측 결과:\")\n",
    "        \n",
    "        for scenario, result in scenario_results.items():\n",
    "            print(f\"\\n🎯 {scenario.upper()}:\")\n",
    "            print(f\"   {result['description']}\")\n",
    "            print(f\"   - 평균 예상 보상금: {result['mean_prediction']:,.0f}\")\n",
    "            print(f\"   - 예측 범위: {result['min_prediction']:,.0f} ~ {result['max_prediction']:,.0f}\")\n",
    "            print(f\"   - 표준편차: {result['std_prediction']:,.0f}\")\n",
    "        \n",
    "        # 시나리오 간 비교\n",
    "        base_prediction = scenario_results['realistic']['mean_prediction']\n",
    "        optimistic_change = (scenario_results['optimistic']['mean_prediction'] - base_prediction) / base_prediction * 100\n",
    "        pessimistic_change = (scenario_results['pessimistic']['mean_prediction'] - base_prediction) / base_prediction * 100\n",
    "        \n",
    "        print(f\"\\n📈 현실적 시나리오 대비 변화율:\")\n",
    "        print(f\"- 낙관적 시나리오: {optimistic_change:+.1f}%\")\n",
    "        print(f\"- 비관적 시나리오: {pessimistic_change:+.1f}%\")\n",
    "        \n",
    "    else:\n",
    "        print(\"❌ 시나리오 예측 실패\")\n",
    "else:\n",
    "    print(\"❌ 학습된 모델이 없어 시나리오 예측을 수행할 수 없습니다\")\n"
   ]
  },
  {
   "cell_type": "raw",
   "metadata": {
    "vscode": {
     "languageId": "raw"
    }
   },
   "source": [
    "## 4. 모델 결과 시각화\n"
   ]
  },
  {
   "cell_type": "code",
   "execution_count": null,
   "metadata": {},
   "outputs": [],
   "source": [
    "# 4-1. 피처 중요도 시각화\n",
    "if 'feature_importance' in locals() and not feature_importance.empty:\n",
    "    plt.figure(figsize=(12, 8))\n",
    "    \n",
    "    # 상위 15개 피처\n",
    "    top_15_features = feature_importance.head(15)\n",
    "    \n",
    "    plt.barh(range(len(top_15_features)), top_15_features['importance'], \n",
    "             color='skyblue', alpha=0.8)\n",
    "    plt.yticks(range(len(top_15_features)), top_15_features['feature'])\n",
    "    plt.xlabel('Feature Importance')\n",
    "    plt.title('🔍 상위 15개 피처 중요도', fontsize=16, pad=20)\n",
    "    plt.grid(axis='x', alpha=0.3)\n",
    "    \n",
    "    # 중요도 값 표시\n",
    "    for i, v in enumerate(top_15_features['importance']):\n",
    "        plt.text(v + 0.001, i, f'{v:.3f}', va='center', fontsize=10)\n",
    "    \n",
    "    plt.tight_layout()\n",
    "    plt.show()\n",
    "    \n",
    "    print(\"📊 피처 중요도 분석 결과:\")\n",
    "    print(\"- 수출 관련 피처와 위험지수 피처가 어떻게 기여하는지 확인\")\n",
    "    print(\"- 시차 피처들의 상대적 중요도 비교 가능\")\n",
    "\n",
    "# 4-2. 시나리오별 예측 결과 시각화\n",
    "if 'scenario_results' in locals() and scenario_results:\n",
    "    plt.figure(figsize=(10, 6))\n",
    "    \n",
    "    scenarios_list = list(scenario_results.keys())\n",
    "    means = [scenario_results[s]['mean_prediction'] for s in scenarios_list]\n",
    "    stds = [scenario_results[s]['std_prediction'] for s in scenarios_list]\n",
    "    \n",
    "    colors = ['green', 'blue', 'red']\n",
    "    bars = plt.bar(scenarios_list, means, yerr=stds, capsize=5, \n",
    "                   color=colors, alpha=0.7)\n",
    "    \n",
    "    plt.title('🔮 시나리오별 예상 보상금', fontsize=16, pad=20)\n",
    "    plt.ylabel('예상 보상금')\n",
    "    plt.xlabel('시나리오')\n",
    "    \n",
    "    # 값 표시\n",
    "    for bar, mean in zip(bars, means):\n",
    "        plt.text(bar.get_x() + bar.get_width()/2, bar.get_height() + max(stds)*0.1,\n",
    "                f'{mean:,.0f}', ha='center', va='bottom', fontsize=12, fontweight='bold')\n",
    "    \n",
    "    plt.grid(axis='y', alpha=0.3)\n",
    "    plt.tight_layout()\n",
    "    plt.show()\n",
    "    \n",
    "    print(\"📈 시나리오 분석 해석:\")\n",
    "    print(\"- 낙관적 시나리오: 리스크 감소 효과\")\n",
    "    print(\"- 비관적 시나리오: 리스크 증가 영향\")\n",
    "    print(\"- 오차막대: 예측 불확실성 표시\")\n"
   ]
  },
  {
   "cell_type": "raw",
   "metadata": {
    "vscode": {
     "languageId": "raw"
    }
   },
   "source": [
    "## 5. 결과 저장\n"
   ]
  },
  {
   "cell_type": "code",
   "execution_count": null,
   "metadata": {},
   "outputs": [],
   "source": [
    "# 5-1. 모델링 결과 저장\n",
    "print(\"💾 결과 저장 중...\")\n",
    "\n",
    "try:\n",
    "    # 통합 피처 데이터 저장\n",
    "    if 'model_data' in locals():\n",
    "        model_data.to_csv('../output/integrated_model_data.csv', index=False, encoding='cp949')\n",
    "        print(\"✅ 통합 모델 데이터 저장 완료\")\n",
    "    \n",
    "    # 피처 중요도 저장\n",
    "    if 'feature_importance' in locals() and not feature_importance.empty:\n",
    "        feature_importance.to_csv('../output/feature_importance.csv', index=False, encoding='cp949')\n",
    "        print(\"✅ 피처 중요도 저장 완료\")\n",
    "    \n",
    "    # 시나리오 예측 결과 저장\n",
    "    if 'scenario_results' in locals() and scenario_results:\n",
    "        scenario_df = pd.DataFrame([\n",
    "            {\n",
    "                'scenario': scenario,\n",
    "                'description': result['description'],\n",
    "                'mean_prediction': result['mean_prediction'],\n",
    "                'std_prediction': result['std_prediction'],\n",
    "                'min_prediction': result['min_prediction'],\n",
    "                'max_prediction': result['max_prediction']\n",
    "            }\n",
    "            for scenario, result in scenario_results.items()\n",
    "        ])\n",
    "        scenario_df.to_csv('../output/scenario_predictions.csv', index=False, encoding='cp949')\n",
    "        print(\"✅ 시나리오 예측 결과 저장 완료\")\n",
    "    \n",
    "    # 모델 성능 지표 저장\n",
    "    if 'performance' in locals():\n",
    "        performance_df = pd.DataFrame([performance])\n",
    "        performance_df.to_csv('../output/model_performance.csv', index=False, encoding='cp949')\n",
    "        print(\"✅ 모델 성능 지표 저장 완료\")\n",
    "    \n",
    "    print(f\"\\n🎯 통합 모델링 분석 완료!\")\n",
    "    print(f\"📁 저장된 파일들:\")\n",
    "    print(f\"- integrated_model_data.csv: 통합 모델링 데이터\")\n",
    "    print(f\"- feature_importance.csv: 피처 중요도\")\n",
    "    print(f\"- scenario_predictions.csv: 시나리오 예측\")\n",
    "    print(f\"- model_performance.csv: 모델 성능\")\n",
    "\n",
    "except Exception as e:\n",
    "    print(f\"❌ 저장 중 오류 발생: {e}\")\n",
    "\n",
    "print(f\"\\n🔥 다음 단계: 05_result_visualization.ipynb로 최종 결과 시각화!\")\n"
   ]
  }
 ],
 "metadata": {
  "language_info": {
   "name": "python"
  }
 },
 "nbformat": 4,
 "nbformat_minor": 2
}
